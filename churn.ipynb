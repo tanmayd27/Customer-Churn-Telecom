{
 "cells": [
  {
   "cell_type": "code",
   "execution_count": 1,
   "metadata": {},
   "outputs": [],
   "source": [
    "#Load libraries\n",
    "import os\n",
    "import pandas as pd\n",
    "import numpy as np\n",
    "import matplotlib.pyplot as plt\n",
    "from scipy.stats import chi2_contingency\n",
    "import seaborn as sns\n",
    "from random import randrange, uniform\n",
    "from sklearn.utils import resample\n",
    "\n",
    "#from sklearn.metrics import precision_score, recall_score, f1_score, roc_auc_score, accuracy_score, classification_report\n",
    "\n",
    "#from imblearn.under_sampling import RandomUnderSampler\n",
    "#from imblearn.over_sampling import RandomOverSampler\n",
    "#from imblearn.over_sampling import SMOTE"
   ]
  },
  {
   "cell_type": "code",
   "execution_count": 2,
   "metadata": {},
   "outputs": [],
   "source": [
    "os.chdir(\"C:/Users/TANMAY/Desktop/exl_data_science\")\n",
    "path_data = os.getcwd()\n",
    "df = pd.read_csv('churn.csv')"
   ]
  },
  {
   "cell_type": "code",
   "execution_count": 3,
   "metadata": {},
   "outputs": [
    {
     "data": {
      "text/plain": [
       "False    147498\n",
       "True       2502\n",
       "dtype: int64"
      ]
     },
     "execution_count": 3,
     "metadata": {},
     "output_type": "execute_result"
    }
   ],
   "source": [
    "df.duplicated().value_counts()"
   ]
  },
  {
   "cell_type": "code",
   "execution_count": 4,
   "metadata": {},
   "outputs": [],
   "source": [
    "df.drop_duplicates(inplace = True)"
   ]
  },
  {
   "cell_type": "code",
   "execution_count": 5,
   "metadata": {},
   "outputs": [
    {
     "data": {
      "text/plain": [
       "False    147498\n",
       "dtype: int64"
      ]
     },
     "execution_count": 5,
     "metadata": {},
     "output_type": "execute_result"
    }
   ],
   "source": [
    "df.duplicated().value_counts()"
   ]
  },
  {
   "cell_type": "code",
   "execution_count": 6,
   "metadata": {},
   "outputs": [
    {
     "data": {
      "text/html": [
       "<div>\n",
       "<style scoped>\n",
       "    .dataframe tbody tr th:only-of-type {\n",
       "        vertical-align: middle;\n",
       "    }\n",
       "\n",
       "    .dataframe tbody tr th {\n",
       "        vertical-align: top;\n",
       "    }\n",
       "\n",
       "    .dataframe thead th {\n",
       "        text-align: right;\n",
       "    }\n",
       "</style>\n",
       "<table border=\"1\" class=\"dataframe\">\n",
       "  <thead>\n",
       "    <tr style=\"text-align: right;\">\n",
       "      <th></th>\n",
       "      <th>Churn</th>\n",
       "      <th>utilization</th>\n",
       "      <th>Age</th>\n",
       "      <th>Num_loans</th>\n",
       "      <th>Num_dependents</th>\n",
       "      <th>MonthlyIncome</th>\n",
       "      <th>Num_Savings_Acccts</th>\n",
       "      <th>DebtRatio</th>\n",
       "    </tr>\n",
       "  </thead>\n",
       "  <tbody>\n",
       "    <tr>\n",
       "      <th>count</th>\n",
       "      <td>147498.000000</td>\n",
       "      <td>147498.000000</td>\n",
       "      <td>147498.000000</td>\n",
       "      <td>147498.000000</td>\n",
       "      <td>147498.000000</td>\n",
       "      <td>147498.000000</td>\n",
       "      <td>147498.000000</td>\n",
       "      <td>147498.000000</td>\n",
       "    </tr>\n",
       "    <tr>\n",
       "      <th>mean</th>\n",
       "      <td>0.067194</td>\n",
       "      <td>0.301473</td>\n",
       "      <td>52.300085</td>\n",
       "      <td>1.026963</td>\n",
       "      <td>0.749508</td>\n",
       "      <td>7687.834466</td>\n",
       "      <td>5.258315</td>\n",
       "      <td>0.301310</td>\n",
       "    </tr>\n",
       "    <tr>\n",
       "      <th>std</th>\n",
       "      <td>0.250359</td>\n",
       "      <td>0.330363</td>\n",
       "      <td>14.710888</td>\n",
       "      <td>1.108859</td>\n",
       "      <td>1.111023</td>\n",
       "      <td>3539.105870</td>\n",
       "      <td>2.167324</td>\n",
       "      <td>0.200009</td>\n",
       "    </tr>\n",
       "    <tr>\n",
       "      <th>min</th>\n",
       "      <td>0.000000</td>\n",
       "      <td>0.000000</td>\n",
       "      <td>21.000000</td>\n",
       "      <td>0.000000</td>\n",
       "      <td>0.000000</td>\n",
       "      <td>1.000000</td>\n",
       "      <td>1.000000</td>\n",
       "      <td>0.000000</td>\n",
       "    </tr>\n",
       "    <tr>\n",
       "      <th>25%</th>\n",
       "      <td>0.000000</td>\n",
       "      <td>0.031072</td>\n",
       "      <td>41.000000</td>\n",
       "      <td>0.000000</td>\n",
       "      <td>0.000000</td>\n",
       "      <td>5700.000000</td>\n",
       "      <td>3.000000</td>\n",
       "      <td>0.178393</td>\n",
       "    </tr>\n",
       "    <tr>\n",
       "      <th>50%</th>\n",
       "      <td>0.000000</td>\n",
       "      <td>0.154835</td>\n",
       "      <td>52.000000</td>\n",
       "      <td>1.000000</td>\n",
       "      <td>0.000000</td>\n",
       "      <td>6357.000000</td>\n",
       "      <td>5.000000</td>\n",
       "      <td>0.274502</td>\n",
       "    </tr>\n",
       "    <tr>\n",
       "      <th>75%</th>\n",
       "      <td>0.000000</td>\n",
       "      <td>0.500162</td>\n",
       "      <td>63.000000</td>\n",
       "      <td>2.000000</td>\n",
       "      <td>1.000000</td>\n",
       "      <td>9166.000000</td>\n",
       "      <td>7.000000</td>\n",
       "      <td>0.386703</td>\n",
       "    </tr>\n",
       "    <tr>\n",
       "      <th>max</th>\n",
       "      <td>1.000000</td>\n",
       "      <td>1.000000</td>\n",
       "      <td>109.000000</td>\n",
       "      <td>14.000000</td>\n",
       "      <td>10.000000</td>\n",
       "      <td>25000.000000</td>\n",
       "      <td>9.000000</td>\n",
       "      <td>1.050000</td>\n",
       "    </tr>\n",
       "  </tbody>\n",
       "</table>\n",
       "</div>"
      ],
      "text/plain": [
       "               Churn    utilization            Age      Num_loans  \\\n",
       "count  147498.000000  147498.000000  147498.000000  147498.000000   \n",
       "mean        0.067194       0.301473      52.300085       1.026963   \n",
       "std         0.250359       0.330363      14.710888       1.108859   \n",
       "min         0.000000       0.000000      21.000000       0.000000   \n",
       "25%         0.000000       0.031072      41.000000       0.000000   \n",
       "50%         0.000000       0.154835      52.000000       1.000000   \n",
       "75%         0.000000       0.500162      63.000000       2.000000   \n",
       "max         1.000000       1.000000     109.000000      14.000000   \n",
       "\n",
       "       Num_dependents  MonthlyIncome  Num_Savings_Acccts      DebtRatio  \n",
       "count   147498.000000  147498.000000       147498.000000  147498.000000  \n",
       "mean         0.749508    7687.834466            5.258315       0.301310  \n",
       "std          1.111023    3539.105870            2.167324       0.200009  \n",
       "min          0.000000       1.000000            1.000000       0.000000  \n",
       "25%          0.000000    5700.000000            3.000000       0.178393  \n",
       "50%          0.000000    6357.000000            5.000000       0.274502  \n",
       "75%          1.000000    9166.000000            7.000000       0.386703  \n",
       "max         10.000000   25000.000000            9.000000       1.050000  "
      ]
     },
     "execution_count": 6,
     "metadata": {},
     "output_type": "execute_result"
    }
   ],
   "source": [
    "df.describe()"
   ]
  },
  {
   "cell_type": "code",
   "execution_count": 7,
   "metadata": {},
   "outputs": [
    {
     "name": "stdout",
     "output_type": "stream",
     "text": [
      "<class 'pandas.core.frame.DataFrame'>\n",
      "Int64Index: 147498 entries, 0 to 149998\n",
      "Data columns (total 8 columns):\n",
      "Churn                 147498 non-null int64\n",
      "utilization           147498 non-null float64\n",
      "Age                   147498 non-null int64\n",
      "Num_loans             147498 non-null int64\n",
      "Num_dependents        147498 non-null int64\n",
      "MonthlyIncome         147498 non-null int64\n",
      "Num_Savings_Acccts    147498 non-null int64\n",
      "DebtRatio             147498 non-null float64\n",
      "dtypes: float64(2), int64(6)\n",
      "memory usage: 10.1 MB\n"
     ]
    }
   ],
   "source": [
    "df.info()"
   ]
  },
  {
   "cell_type": "code",
   "execution_count": 8,
   "metadata": {},
   "outputs": [
    {
     "data": {
      "text/html": [
       "<div>\n",
       "<style scoped>\n",
       "    .dataframe tbody tr th:only-of-type {\n",
       "        vertical-align: middle;\n",
       "    }\n",
       "\n",
       "    .dataframe tbody tr th {\n",
       "        vertical-align: top;\n",
       "    }\n",
       "\n",
       "    .dataframe thead th {\n",
       "        text-align: right;\n",
       "    }\n",
       "</style>\n",
       "<table border=\"1\" class=\"dataframe\">\n",
       "  <thead>\n",
       "    <tr style=\"text-align: right;\">\n",
       "      <th></th>\n",
       "      <th>Churn</th>\n",
       "      <th>utilization</th>\n",
       "      <th>Age</th>\n",
       "      <th>Num_loans</th>\n",
       "      <th>Num_dependents</th>\n",
       "      <th>MonthlyIncome</th>\n",
       "      <th>Num_Savings_Acccts</th>\n",
       "      <th>DebtRatio</th>\n",
       "    </tr>\n",
       "  </thead>\n",
       "  <tbody>\n",
       "    <tr>\n",
       "      <th>0</th>\n",
       "      <td>1</td>\n",
       "      <td>0.766127</td>\n",
       "      <td>45</td>\n",
       "      <td>6</td>\n",
       "      <td>2</td>\n",
       "      <td>9120</td>\n",
       "      <td>2</td>\n",
       "      <td>0.852982</td>\n",
       "    </tr>\n",
       "    <tr>\n",
       "      <th>1</th>\n",
       "      <td>0</td>\n",
       "      <td>0.957151</td>\n",
       "      <td>40</td>\n",
       "      <td>0</td>\n",
       "      <td>1</td>\n",
       "      <td>4600</td>\n",
       "      <td>2</td>\n",
       "      <td>0.121876</td>\n",
       "    </tr>\n",
       "    <tr>\n",
       "      <th>2</th>\n",
       "      <td>0</td>\n",
       "      <td>0.658180</td>\n",
       "      <td>38</td>\n",
       "      <td>0</td>\n",
       "      <td>0</td>\n",
       "      <td>5042</td>\n",
       "      <td>2</td>\n",
       "      <td>0.085113</td>\n",
       "    </tr>\n",
       "    <tr>\n",
       "      <th>3</th>\n",
       "      <td>0</td>\n",
       "      <td>0.233810</td>\n",
       "      <td>30</td>\n",
       "      <td>0</td>\n",
       "      <td>0</td>\n",
       "      <td>5300</td>\n",
       "      <td>2</td>\n",
       "      <td>0.036050</td>\n",
       "    </tr>\n",
       "    <tr>\n",
       "      <th>4</th>\n",
       "      <td>0</td>\n",
       "      <td>0.907239</td>\n",
       "      <td>49</td>\n",
       "      <td>1</td>\n",
       "      <td>0</td>\n",
       "      <td>6357</td>\n",
       "      <td>2</td>\n",
       "      <td>0.024926</td>\n",
       "    </tr>\n",
       "    <tr>\n",
       "      <th>5</th>\n",
       "      <td>0</td>\n",
       "      <td>0.213179</td>\n",
       "      <td>74</td>\n",
       "      <td>1</td>\n",
       "      <td>1</td>\n",
       "      <td>5500</td>\n",
       "      <td>2</td>\n",
       "      <td>0.375607</td>\n",
       "    </tr>\n",
       "    <tr>\n",
       "      <th>6</th>\n",
       "      <td>0</td>\n",
       "      <td>0.305682</td>\n",
       "      <td>57</td>\n",
       "      <td>3</td>\n",
       "      <td>0</td>\n",
       "      <td>6357</td>\n",
       "      <td>2</td>\n",
       "      <td>0.274502</td>\n",
       "    </tr>\n",
       "    <tr>\n",
       "      <th>7</th>\n",
       "      <td>0</td>\n",
       "      <td>0.754464</td>\n",
       "      <td>39</td>\n",
       "      <td>0</td>\n",
       "      <td>0</td>\n",
       "      <td>5500</td>\n",
       "      <td>2</td>\n",
       "      <td>0.209940</td>\n",
       "    </tr>\n",
       "    <tr>\n",
       "      <th>8</th>\n",
       "      <td>0</td>\n",
       "      <td>0.116951</td>\n",
       "      <td>27</td>\n",
       "      <td>0</td>\n",
       "      <td>0</td>\n",
       "      <td>6357</td>\n",
       "      <td>2</td>\n",
       "      <td>0.274502</td>\n",
       "    </tr>\n",
       "    <tr>\n",
       "      <th>9</th>\n",
       "      <td>0</td>\n",
       "      <td>0.189169</td>\n",
       "      <td>57</td>\n",
       "      <td>4</td>\n",
       "      <td>2</td>\n",
       "      <td>6357</td>\n",
       "      <td>2</td>\n",
       "      <td>0.606291</td>\n",
       "    </tr>\n",
       "    <tr>\n",
       "      <th>10</th>\n",
       "      <td>0</td>\n",
       "      <td>0.644226</td>\n",
       "      <td>30</td>\n",
       "      <td>0</td>\n",
       "      <td>0</td>\n",
       "      <td>4500</td>\n",
       "      <td>2</td>\n",
       "      <td>0.309476</td>\n",
       "    </tr>\n",
       "    <tr>\n",
       "      <th>11</th>\n",
       "      <td>0</td>\n",
       "      <td>0.018798</td>\n",
       "      <td>51</td>\n",
       "      <td>2</td>\n",
       "      <td>2</td>\n",
       "      <td>8501</td>\n",
       "      <td>2</td>\n",
       "      <td>0.531529</td>\n",
       "    </tr>\n",
       "    <tr>\n",
       "      <th>12</th>\n",
       "      <td>0</td>\n",
       "      <td>0.010352</td>\n",
       "      <td>46</td>\n",
       "      <td>2</td>\n",
       "      <td>2</td>\n",
       "      <td>14454</td>\n",
       "      <td>2</td>\n",
       "      <td>0.298354</td>\n",
       "    </tr>\n",
       "    <tr>\n",
       "      <th>13</th>\n",
       "      <td>1</td>\n",
       "      <td>0.964673</td>\n",
       "      <td>40</td>\n",
       "      <td>1</td>\n",
       "      <td>2</td>\n",
       "      <td>13700</td>\n",
       "      <td>2</td>\n",
       "      <td>0.432965</td>\n",
       "    </tr>\n",
       "    <tr>\n",
       "      <th>14</th>\n",
       "      <td>0</td>\n",
       "      <td>0.019657</td>\n",
       "      <td>76</td>\n",
       "      <td>1</td>\n",
       "      <td>0</td>\n",
       "      <td>6357</td>\n",
       "      <td>2</td>\n",
       "      <td>0.274502</td>\n",
       "    </tr>\n",
       "    <tr>\n",
       "      <th>15</th>\n",
       "      <td>0</td>\n",
       "      <td>0.548458</td>\n",
       "      <td>64</td>\n",
       "      <td>1</td>\n",
       "      <td>2</td>\n",
       "      <td>13362</td>\n",
       "      <td>2</td>\n",
       "      <td>0.209892</td>\n",
       "    </tr>\n",
       "    <tr>\n",
       "      <th>16</th>\n",
       "      <td>0</td>\n",
       "      <td>0.061086</td>\n",
       "      <td>78</td>\n",
       "      <td>2</td>\n",
       "      <td>0</td>\n",
       "      <td>6357</td>\n",
       "      <td>2</td>\n",
       "      <td>0.274502</td>\n",
       "    </tr>\n",
       "    <tr>\n",
       "      <th>17</th>\n",
       "      <td>0</td>\n",
       "      <td>0.166284</td>\n",
       "      <td>53</td>\n",
       "      <td>0</td>\n",
       "      <td>0</td>\n",
       "      <td>10800</td>\n",
       "      <td>1</td>\n",
       "      <td>0.188274</td>\n",
       "    </tr>\n",
       "    <tr>\n",
       "      <th>18</th>\n",
       "      <td>0</td>\n",
       "      <td>0.221813</td>\n",
       "      <td>43</td>\n",
       "      <td>1</td>\n",
       "      <td>2</td>\n",
       "      <td>5280</td>\n",
       "      <td>2</td>\n",
       "      <td>0.527888</td>\n",
       "    </tr>\n",
       "    <tr>\n",
       "      <th>19</th>\n",
       "      <td>0</td>\n",
       "      <td>0.602794</td>\n",
       "      <td>25</td>\n",
       "      <td>0</td>\n",
       "      <td>0</td>\n",
       "      <td>2333</td>\n",
       "      <td>2</td>\n",
       "      <td>0.065868</td>\n",
       "    </tr>\n",
       "  </tbody>\n",
       "</table>\n",
       "</div>"
      ],
      "text/plain": [
       "    Churn  utilization  Age  Num_loans  Num_dependents  MonthlyIncome  \\\n",
       "0       1     0.766127   45          6               2           9120   \n",
       "1       0     0.957151   40          0               1           4600   \n",
       "2       0     0.658180   38          0               0           5042   \n",
       "3       0     0.233810   30          0               0           5300   \n",
       "4       0     0.907239   49          1               0           6357   \n",
       "5       0     0.213179   74          1               1           5500   \n",
       "6       0     0.305682   57          3               0           6357   \n",
       "7       0     0.754464   39          0               0           5500   \n",
       "8       0     0.116951   27          0               0           6357   \n",
       "9       0     0.189169   57          4               2           6357   \n",
       "10      0     0.644226   30          0               0           4500   \n",
       "11      0     0.018798   51          2               2           8501   \n",
       "12      0     0.010352   46          2               2          14454   \n",
       "13      1     0.964673   40          1               2          13700   \n",
       "14      0     0.019657   76          1               0           6357   \n",
       "15      0     0.548458   64          1               2          13362   \n",
       "16      0     0.061086   78          2               0           6357   \n",
       "17      0     0.166284   53          0               0          10800   \n",
       "18      0     0.221813   43          1               2           5280   \n",
       "19      0     0.602794   25          0               0           2333   \n",
       "\n",
       "    Num_Savings_Acccts  DebtRatio  \n",
       "0                    2   0.852982  \n",
       "1                    2   0.121876  \n",
       "2                    2   0.085113  \n",
       "3                    2   0.036050  \n",
       "4                    2   0.024926  \n",
       "5                    2   0.375607  \n",
       "6                    2   0.274502  \n",
       "7                    2   0.209940  \n",
       "8                    2   0.274502  \n",
       "9                    2   0.606291  \n",
       "10                   2   0.309476  \n",
       "11                   2   0.531529  \n",
       "12                   2   0.298354  \n",
       "13                   2   0.432965  \n",
       "14                   2   0.274502  \n",
       "15                   2   0.209892  \n",
       "16                   2   0.274502  \n",
       "17                   1   0.188274  \n",
       "18                   2   0.527888  \n",
       "19                   2   0.065868  "
      ]
     },
     "execution_count": 8,
     "metadata": {},
     "output_type": "execute_result"
    }
   ],
   "source": [
    "df.reset_index(inplace = True , drop = True)\n",
    "df.head(20)"
   ]
  },
  {
   "cell_type": "code",
   "execution_count": 9,
   "metadata": {},
   "outputs": [
    {
     "data": {
      "text/plain": [
       "Churn                 0\n",
       "utilization           0\n",
       "Age                   0\n",
       "Num_loans             0\n",
       "Num_dependents        0\n",
       "MonthlyIncome         0\n",
       "Num_Savings_Acccts    0\n",
       "DebtRatio             0\n",
       "dtype: int64"
      ]
     },
     "execution_count": 9,
     "metadata": {},
     "output_type": "execute_result"
    }
   ],
   "source": [
    "df.isnull().sum()"
   ]
  },
  {
   "cell_type": "code",
   "execution_count": 18,
   "metadata": {},
   "outputs": [
    {
     "data": {
      "image/png": "[encoded data removed]",
      "text/plain": [
       "<Figure size 432x288 with 1 Axes>"
      ]
     },
     "metadata": {},
     "output_type": "display_data"
    },
    {
     "data": {
      "image/png": "[encoded data removed]",
      "text/plain": [
       "<Figure size 432x288 with 1 Axes>"
      ]
     },
     "metadata": {},
     "output_type": "display_data"
    },
    {
     "data": {
      "image/png": "[encoded data removed]",
      "text/plain": [
       "<Figure size 432x288 with 1 Axes>"
      ]
     },
     "metadata": {},
     "output_type": "display_data"
    },
    {
     "data": {
      "image/png": "[encoded data removed]",
      "text/plain": [
       "<Figure size 432x288 with 1 Axes>"
      ]
     },
     "metadata": {},
     "output_type": "display_data"
    },
    {
     "data": {
      "image/png": "[encoded data removed]",
      "text/plain": [
       "<Figure size 432x288 with 1 Axes>"
      ]
     },
     "metadata": {},
     "output_type": "display_data"
    },
    {
     "data": {
      "image/png": "[encoded data removed]",
      "text/plain": [
       "<Figure size 432x288 with 1 Axes>"
      ]
     },
     "metadata": {},
     "output_type": "display_data"
    },
    {
     "data": {
      "image/png": "[encoded data removed]",
      "text/plain": [
       "<Figure size 432x288 with 1 Axes>"
      ]
     },
     "metadata": {},
     "output_type": "display_data"
    },
    {
     "data": {
      "image/png": "[encoded data removed]",
      "text/plain": [
       "<Figure size 432x288 with 1 Axes>"
      ]
     },
     "metadata": {},
     "output_type": "display_data"
    }
   ],
   "source": [
    "for col in df.columns:\n",
    "    plt.figure()\n",
    "    df[col].plot(kind = 'box')"
   ]
  },
  {
   "cell_type": "code",
   "execution_count": 10,
   "metadata": {},
   "outputs": [
    {
     "data": {
      "text/plain": [
       "0    137587\n",
       "1      9911\n",
       "Name: Churn, dtype: int64"
      ]
     },
     "execution_count": 10,
     "metadata": {},
     "output_type": "execute_result"
    }
   ],
   "source": [
    "df['Churn'].value_counts()\n"
   ]
  },
  {
   "cell_type": "code",
   "execution_count": 11,
   "metadata": {},
   "outputs": [],
   "source": [
    "cnames = [\"utilization\",\"Age\",\"Num_loans\",\"Num_dependents\",\"MonthlyIncome\",\"Num_Savings_Acccts\",\"DebtRatio\" ]"
   ]
  },
  {
   "cell_type": "code",
   "execution_count": 12,
   "metadata": {},
   "outputs": [
    {
     "name": "stdout",
     "output_type": "stream",
     "text": [
      "utilization\n",
      "Age\n",
      "Num_loans\n",
      "Num_dependents\n",
      "MonthlyIncome\n",
      "Num_Savings_Acccts\n",
      "DebtRatio\n"
     ]
    }
   ],
   "source": [
    "for i in cnames:\n",
    "    print(i)\n",
    "    df[i] = (df[i] - min(df[i]))/(max(df[i]) - min(df[i]))"
   ]
  },
  {
   "cell_type": "code",
   "execution_count": 13,
   "metadata": {},
   "outputs": [
    {
     "data": {
      "text/html": [
       "<div>\n",
       "<style scoped>\n",
       "    .dataframe tbody tr th:only-of-type {\n",
       "        vertical-align: middle;\n",
       "    }\n",
       "\n",
       "    .dataframe tbody tr th {\n",
       "        vertical-align: top;\n",
       "    }\n",
       "\n",
       "    .dataframe thead th {\n",
       "        text-align: right;\n",
       "    }\n",
       "</style>\n",
       "<table border=\"1\" class=\"dataframe\">\n",
       "  <thead>\n",
       "    <tr style=\"text-align: right;\">\n",
       "      <th></th>\n",
       "      <th>Churn</th>\n",
       "      <th>utilization</th>\n",
       "      <th>Age</th>\n",
       "      <th>Num_loans</th>\n",
       "      <th>Num_dependents</th>\n",
       "      <th>MonthlyIncome</th>\n",
       "      <th>Num_Savings_Acccts</th>\n",
       "      <th>DebtRatio</th>\n",
       "    </tr>\n",
       "  </thead>\n",
       "  <tbody>\n",
       "    <tr>\n",
       "      <th>count</th>\n",
       "      <td>147498.000000</td>\n",
       "      <td>147498.000000</td>\n",
       "      <td>147498.000000</td>\n",
       "      <td>147498.000000</td>\n",
       "      <td>147498.000000</td>\n",
       "      <td>147498.000000</td>\n",
       "      <td>147498.000000</td>\n",
       "      <td>147498.000000</td>\n",
       "    </tr>\n",
       "    <tr>\n",
       "      <th>mean</th>\n",
       "      <td>0.067194</td>\n",
       "      <td>0.301473</td>\n",
       "      <td>0.355683</td>\n",
       "      <td>0.073355</td>\n",
       "      <td>0.074951</td>\n",
       "      <td>0.307486</td>\n",
       "      <td>0.532289</td>\n",
       "      <td>0.286961</td>\n",
       "    </tr>\n",
       "    <tr>\n",
       "      <th>std</th>\n",
       "      <td>0.250359</td>\n",
       "      <td>0.330363</td>\n",
       "      <td>0.167169</td>\n",
       "      <td>0.079204</td>\n",
       "      <td>0.111102</td>\n",
       "      <td>0.141570</td>\n",
       "      <td>0.270916</td>\n",
       "      <td>0.190485</td>\n",
       "    </tr>\n",
       "    <tr>\n",
       "      <th>min</th>\n",
       "      <td>0.000000</td>\n",
       "      <td>0.000000</td>\n",
       "      <td>0.000000</td>\n",
       "      <td>0.000000</td>\n",
       "      <td>0.000000</td>\n",
       "      <td>0.000000</td>\n",
       "      <td>0.000000</td>\n",
       "      <td>0.000000</td>\n",
       "    </tr>\n",
       "    <tr>\n",
       "      <th>25%</th>\n",
       "      <td>0.000000</td>\n",
       "      <td>0.031072</td>\n",
       "      <td>0.227273</td>\n",
       "      <td>0.000000</td>\n",
       "      <td>0.000000</td>\n",
       "      <td>0.227969</td>\n",
       "      <td>0.250000</td>\n",
       "      <td>0.169898</td>\n",
       "    </tr>\n",
       "    <tr>\n",
       "      <th>50%</th>\n",
       "      <td>0.000000</td>\n",
       "      <td>0.154835</td>\n",
       "      <td>0.352273</td>\n",
       "      <td>0.071429</td>\n",
       "      <td>0.000000</td>\n",
       "      <td>0.254250</td>\n",
       "      <td>0.500000</td>\n",
       "      <td>0.261430</td>\n",
       "    </tr>\n",
       "    <tr>\n",
       "      <th>75%</th>\n",
       "      <td>0.000000</td>\n",
       "      <td>0.500162</td>\n",
       "      <td>0.477273</td>\n",
       "      <td>0.142857</td>\n",
       "      <td>0.100000</td>\n",
       "      <td>0.366615</td>\n",
       "      <td>0.750000</td>\n",
       "      <td>0.368288</td>\n",
       "    </tr>\n",
       "    <tr>\n",
       "      <th>max</th>\n",
       "      <td>1.000000</td>\n",
       "      <td>1.000000</td>\n",
       "      <td>1.000000</td>\n",
       "      <td>1.000000</td>\n",
       "      <td>1.000000</td>\n",
       "      <td>1.000000</td>\n",
       "      <td>1.000000</td>\n",
       "      <td>1.000000</td>\n",
       "    </tr>\n",
       "  </tbody>\n",
       "</table>\n",
       "</div>"
      ],
      "text/plain": [
       "               Churn    utilization            Age      Num_loans  \\\n",
       "count  147498.000000  147498.000000  147498.000000  147498.000000   \n",
       "mean        0.067194       0.301473       0.355683       0.073355   \n",
       "std         0.250359       0.330363       0.167169       0.079204   \n",
       "min         0.000000       0.000000       0.000000       0.000000   \n",
       "25%         0.000000       0.031072       0.227273       0.000000   \n",
       "50%         0.000000       0.154835       0.352273       0.071429   \n",
       "75%         0.000000       0.500162       0.477273       0.142857   \n",
       "max         1.000000       1.000000       1.000000       1.000000   \n",
       "\n",
       "       Num_dependents  MonthlyIncome  Num_Savings_Acccts      DebtRatio  \n",
       "count   147498.000000  147498.000000       147498.000000  147498.000000  \n",
       "mean         0.074951       0.307486            0.532289       0.286961  \n",
       "std          0.111102       0.141570            0.270916       0.190485  \n",
       "min          0.000000       0.000000            0.000000       0.000000  \n",
       "25%          0.000000       0.227969            0.250000       0.169898  \n",
       "50%          0.000000       0.254250            0.500000       0.261430  \n",
       "75%          0.100000       0.366615            0.750000       0.368288  \n",
       "max          1.000000       1.000000            1.000000       1.000000  "
      ]
     },
     "execution_count": 13,
     "metadata": {},
     "output_type": "execute_result"
    }
   ],
   "source": [
    "df.describe()"
   ]
  },
  {
   "cell_type": "code",
   "execution_count": 14,
   "metadata": {},
   "outputs": [
    {
     "data": {
      "image/png": "[encoded data removed]",
      "text/plain": [
       "<Figure size 1080x1080 with 2 Axes>"
      ]
     },
     "metadata": {},
     "output_type": "display_data"
    }
   ],
   "source": [
    "corr_matrix = df.corr()\n",
    "plot = plt.figure(figsize = (15,15))\n",
    "sns.heatmap(corr_matrix) # seaborn Library\n",
    "plt.show()"
   ]
  },
  {
   "cell_type": "code",
   "execution_count": 32,
   "metadata": {},
   "outputs": [
    {
     "data": {
      "text/plain": [
       "(array([8.9180e+03, 2.5920e+03, 1.5810e+03, 1.0780e+03, 9.3500e+02,\n",
       "        8.7200e+02, 1.2910e+03, 1.0970e+03, 1.0150e+03, 1.1710e+03,\n",
       "        1.1280e+03, 1.1450e+03, 1.1760e+03, 1.1560e+03, 1.2160e+03,\n",
       "        1.3050e+03, 1.2120e+03, 1.3410e+03, 1.2950e+03, 1.3910e+03,\n",
       "        1.3580e+03, 1.4700e+03, 1.4360e+03, 1.4290e+03, 1.5550e+03,\n",
       "        1.4070e+03, 1.5340e+03, 1.5160e+03, 1.5250e+03, 1.5980e+03,\n",
       "        1.5640e+03, 1.4990e+03, 1.6140e+03, 1.6000e+03, 1.5780e+03,\n",
       "        3.4434e+04, 1.5230e+03, 1.5480e+03, 1.5110e+03, 1.5180e+03,\n",
       "        1.5260e+03, 1.5230e+03, 3.7510e+03, 1.4270e+03, 1.4280e+03,\n",
       "        1.3300e+03, 1.3820e+03, 1.3430e+03, 1.3730e+03, 1.2980e+03,\n",
       "        1.2780e+03, 1.1610e+03, 1.1830e+03, 1.1880e+03, 1.1690e+03,\n",
       "        1.0190e+03, 1.0620e+03, 1.0740e+03, 1.0120e+03, 1.0160e+03,\n",
       "        9.7000e+02, 9.3900e+02, 9.5200e+02, 8.8300e+02, 8.3100e+02,\n",
       "        7.9800e+02, 8.2200e+02, 7.5500e+02, 6.9400e+02, 6.9400e+02,\n",
       "        6.6400e+02, 6.4800e+02, 6.3600e+02, 6.0300e+02, 5.6300e+02,\n",
       "        5.5200e+02, 5.3100e+02, 5.2300e+02, 5.2000e+02, 4.5500e+02,\n",
       "        4.8500e+02, 4.2200e+02, 4.7800e+02, 4.7600e+02, 4.4800e+02,\n",
       "        4.0800e+02, 4.0900e+02, 3.8700e+02, 3.6600e+02, 3.7700e+02,\n",
       "        3.4000e+02, 3.1700e+02, 3.2700e+02, 3.1300e+02, 2.9700e+02,\n",
       "        3.0400e+02, 2.7000e+02, 2.5300e+02, 2.7200e+02, 2.5900e+02,\n",
       "        2.2300e+02, 2.2300e+02, 2.3900e+02, 2.2800e+02, 2.0000e+02,\n",
       "        1.7400e+02, 1.8900e+02, 2.0400e+02, 1.7800e+02, 1.8200e+02,\n",
       "        1.6400e+02, 1.6300e+02, 1.8300e+02, 1.6300e+02, 1.5000e+02,\n",
       "        1.4400e+02, 1.5600e+02, 1.4800e+02, 1.4300e+02, 1.3200e+02,\n",
       "        1.3000e+02, 1.2000e+02, 1.4000e+02, 1.2300e+02, 1.2700e+02,\n",
       "        1.0100e+02, 1.0300e+02, 9.6000e+01, 9.5000e+01, 9.6000e+01,\n",
       "        2.8400e+02, 1.5000e+01, 1.6000e+01, 1.6000e+01, 1.0000e+01,\n",
       "        1.6000e+01, 1.0000e+01]),\n",
       " array([0.        , 0.00766423, 0.01532847, 0.0229927 , 0.03065693,\n",
       "        0.03832117, 0.0459854 , 0.05364964, 0.06131387, 0.0689781 ,\n",
       "        0.07664234, 0.08430657, 0.0919708 , 0.09963504, 0.10729927,\n",
       "        0.1149635 , 0.12262774, 0.13029197, 0.1379562 , 0.14562044,\n",
       "        0.15328467, 0.16094891, 0.16861314, 0.17627737, 0.18394161,\n",
       "        0.19160584, 0.19927007, 0.20693431, 0.21459854, 0.22226277,\n",
       "        0.22992701, 0.23759124, 0.24525547, 0.25291971, 0.26058394,\n",
       "        0.26824818, 0.27591241, 0.28357664, 0.29124088, 0.29890511,\n",
       "        0.30656934, 0.31423358, 0.32189781, 0.32956204, 0.33722628,\n",
       "        0.34489051, 0.35255474, 0.36021898, 0.36788321, 0.37554745,\n",
       "        0.38321168, 0.39087591, 0.39854015, 0.40620438, 0.41386861,\n",
       "        0.42153285, 0.42919708, 0.43686131, 0.44452555, 0.45218978,\n",
       "        0.45985401, 0.46751825, 0.47518248, 0.48284672, 0.49051095,\n",
       "        0.49817518, 0.50583942, 0.51350365, 0.52116788, 0.52883212,\n",
       "        0.53649635, 0.54416058, 0.55182482, 0.55948905, 0.56715328,\n",
       "        0.57481752, 0.58248175, 0.59014599, 0.59781022, 0.60547445,\n",
       "        0.61313869, 0.62080292, 0.62846715, 0.63613139, 0.64379562,\n",
       "        0.65145985, 0.65912409, 0.66678832, 0.67445255, 0.68211679,\n",
       "        0.68978102, 0.69744526, 0.70510949, 0.71277372, 0.72043796,\n",
       "        0.72810219, 0.73576642, 0.74343066, 0.75109489, 0.75875912,\n",
       "        0.76642336, 0.77408759, 0.78175182, 0.78941606, 0.79708029,\n",
       "        0.80474453, 0.81240876, 0.82007299, 0.82773723, 0.83540146,\n",
       "        0.84306569, 0.85072993, 0.85839416, 0.86605839, 0.87372263,\n",
       "        0.88138686, 0.88905109, 0.89671533, 0.90437956, 0.9120438 ,\n",
       "        0.91970803, 0.92737226, 0.9350365 , 0.94270073, 0.95036496,\n",
       "        0.9580292 , 0.96569343, 0.97335766, 0.9810219 , 0.98868613,\n",
       "        0.99635036, 1.0040146 , 1.01167883, 1.01934307, 1.0270073 ,\n",
       "        1.03467153, 1.04233577, 1.05      ]),\n",
       " <a list of 137 Patch objects>)"
      ]
     },
     "execution_count": 32,
     "metadata": {},
     "output_type": "execute_result"
    },
    {
     "data": {
      "image/png": "[encoded data removed]",
      "text/plain": [
       "<Figure size 432x288 with 1 Axes>"
      ]
     },
     "metadata": {},
     "output_type": "display_data"
    }
   ],
   "source": [
    "%matplotlib inline  \n",
    "plt.hist(df['DebtRatio'], bins='auto')"
   ]
  },
  {
   "cell_type": "code",
   "execution_count": 15,
   "metadata": {},
   "outputs": [],
   "source": [
    "df_mj=df[df.Churn==0]\n",
    "df_mi=df[df.Churn==1]"
   ]
  },
  {
   "cell_type": "code",
   "execution_count": 16,
   "metadata": {},
   "outputs": [],
   "source": [
    "df_mi_up=resample(df_mi, replace=True , n_samples=137587 ,random_state=3)"
   ]
  },
  {
   "cell_type": "code",
   "execution_count": 17,
   "metadata": {},
   "outputs": [],
   "source": [
    "df_up= pd.concat([df_mj,df_mi_up])"
   ]
  },
  {
   "cell_type": "code",
   "execution_count": 18,
   "metadata": {},
   "outputs": [
    {
     "data": {
      "text/plain": [
       "1    137587\n",
       "0    137587\n",
       "Name: Churn, dtype: int64"
      ]
     },
     "execution_count": 18,
     "metadata": {},
     "output_type": "execute_result"
    }
   ],
   "source": [
    "df_up.Churn.value_counts()"
   ]
  },
  {
   "cell_type": "code",
   "execution_count": null,
   "metadata": {},
   "outputs": [],
   "source": [
    "# Feature Scaling\n",
    "from sklearn.preprocessing import StandardScaler\n",
    "sc = StandardScaler()\n",
    "X_train = sc.fit_transform(X_train)\n",
    "X_test = sc.transform(X_test)\n"
   ]
  },
  {
   "cell_type": "code",
   "execution_count": 19,
   "metadata": {},
   "outputs": [
    {
     "name": "stderr",
     "output_type": "stream",
     "text": [
      "C:\\Users\\TANMAY\\Anaconda3\\lib\\site-packages\\sklearn\\cross_validation.py:44: DeprecationWarning: This module was deprecated in version 0.18 in favor of the model_selection module into which all the refactored classes and functions are moved. Also note that the interface of the new CV iterators are different from that of this module. This module will be removed in 0.20.\n",
      "  \"This module will be removed in 0.20.\", DeprecationWarning)\n"
     ]
    }
   ],
   "source": [
    "#Import Libraries for decision tree\n",
    "from sklearn import tree\n",
    "from sklearn.metrics import accuracy_score\n",
    "from sklearn.cross_validation import train_test_split"
   ]
  },
  {
   "cell_type": "code",
   "execution_count": 24,
   "metadata": {},
   "outputs": [],
   "source": [
    "#Divide data into train and test\n",
    "X = df_up.values[:, 1:8]\n",
    "Y = df_up.values[:,0]\n",
    "\n",
    "X_train, X_test, y_train, y_test = train_test_split( X, Y, test_size = 0.3 , random_state=3)"
   ]
  },
  {
   "cell_type": "code",
   "execution_count": 25,
   "metadata": {},
   "outputs": [],
   "source": [
    "#Random Forest\n",
    "from sklearn.ensemble import RandomForestClassifier\n",
    "\n",
    "RF_model = RandomForestClassifier(n_estimators = 80).fit(X_train, y_train)"
   ]
  },
  {
   "cell_type": "code",
   "execution_count": 26,
   "metadata": {},
   "outputs": [],
   "source": [
    "RF_Predictions = RF_model.predict(X_test)"
   ]
  },
  {
   "cell_type": "code",
   "execution_count": 27,
   "metadata": {},
   "outputs": [
    {
     "name": "stdout",
     "output_type": "stream",
     "text": [
      "col_0    0.0    1.0\n",
      "row_0              \n",
      "0.0    40705    616\n",
      "1.0        0  41232\n",
      "99.25381270214287\n",
      "0.0\n"
     ]
    }
   ],
   "source": [
    "#build confusion matrix\n",
    "from sklearn.metrics import confusion_matrix \n",
    "#CM = confusion_matrix(y_test, y_pred)\n",
    "CM = pd.crosstab(y_test, RF_Predictions)\n",
    "print(CM)\n",
    "#let us save TP, TN, FP, FN\n",
    "TN = CM.iloc[0,0]\n",
    "FN = CM.iloc[1,0]\n",
    "TP = CM.iloc[1,1]\n",
    "FP = CM.iloc[0,1]\n",
    "\n",
    "#check accuracy of model\n",
    "#accuracy_score(y_test, y_pred)*100\n",
    "print(((TP+TN)*100)/(TP+TN+FP+FN))\n",
    "\n",
    "#False Negative rate \n",
    "print((FN*100)/(FN+TP))\n",
    "\n",
    "#Accuracy: 88\n",
    "#FNR: 67"
   ]
  },
  {
   "cell_type": "code",
   "execution_count": 28,
   "metadata": {},
   "outputs": [
    {
     "name": "stdout",
     "output_type": "stream",
     "text": [
      "0.9916675707192697\n",
      "0.0003637022392059289\n"
     ]
    }
   ],
   "source": [
    "from sklearn.model_selection import cross_val_score\n",
    "accuracies = cross_val_score(estimator = RF_model, X = X_train, y = y_train, cv = 10)\n",
    "print(accuracies.mean())\n",
    "print(accuracies.std())"
   ]
  },
  {
   "cell_type": "code",
   "execution_count": null,
   "metadata": {},
   "outputs": [],
   "source": [
    "# Applying Grid Search to find the best model and the best parameters\n",
    "from sklearn.model_selection import GridSearchCV\n",
    "parameters = [{'C': [1, 10, 100, 1000], 'kernel': ['linear']},\n",
    "              {'C': [1, 10, 100, 1000], 'kernel': ['rbf'], 'gamma': [0.1, 0.2, 0.3, 0.4, 0.5, 0.6, 0.7, 0.8, 0.9]}]\n",
    "grid_search = GridSearchCV(estimator = classifier,\n",
    "                           param_grid = parameters,\n",
    "                           scoring = 'accuracy',\n",
    "                           cv = 10,\n",
    "                           n_jobs = -1)\n",
    "grid_search = grid_search.fit(X_train, y_train)\n",
    "best_accuracy = grid_search.best_score_\n",
    "best_parameters = grid_search.best_params_"
   ]
  }
 ],
 "metadata": {
  "kernelspec": {
   "display_name": "Python 3",
   "language": "python",
   "name": "python3"
  },
  "language_info": {
   "codemirror_mode": {
    "name": "ipython",
    "version": 3
   },
   "file_extension": ".py",
   "mimetype": "text/x-python",
   "name": "python",
   "nbconvert_exporter": "python",
   "pygments_lexer": "ipython3",
   "version": "3.6.5"
  }
 },
 "nbformat": 4,
 "nbformat_minor": 2
}
